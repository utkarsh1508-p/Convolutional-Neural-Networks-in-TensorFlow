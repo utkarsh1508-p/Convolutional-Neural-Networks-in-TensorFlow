{
  "nbformat": 4,
  "nbformat_minor": 0,
  "metadata": {
    "colab": {
      "name": "C2_W4_Assignment.ipynb",
      "provenance": [],
      "collapsed_sections": [],
      "toc_visible": true,
      "include_colab_link": true
    },
    "kernelspec": {
      "display_name": "Python 3",
      "language": "python",
      "name": "python3"
    },
    "language_info": {
      "codemirror_mode": {
        "name": "ipython",
        "version": 3
      },
      "file_extension": ".py",
      "mimetype": "text/x-python",
      "name": "python",
      "nbconvert_exporter": "python",
      "pygments_lexer": "ipython3",
      "version": "3.8.5"
    },
    "accelerator": "GPU"
  },
  "cells": [
    {
      "cell_type": "markdown",
      "metadata": {
        "id": "view-in-github",
        "colab_type": "text"
      },
      "source": [
        "<a href=\"https://colab.research.google.com/github/utkarsh1508-p/Convolutional-Neural-Networks-in-TensorFlow/blob/main/C2/W4/assignment/C2_W4_Assignment.ipynb\" target=\"_parent\"><img src=\"https://colab.research.google.com/assets/colab-badge.svg\" alt=\"Open In Colab\"/></a>"
      ]
    },
    {
      "cell_type": "code",
      "metadata": {
        "id": "zX4Kg8DUTKWO"
      },
      "source": [
        "#@title Licensed under the Apache License, Version 2.0 (the \"License\");\n",
        "# you may not use this file except in compliance with the License.\n",
        "# You may obtain a copy of the License at\n",
        "#\n",
        "# https://www.apache.org/licenses/LICENSE-2.0\n",
        "#\n",
        "# Unless required by applicable law or agreed to in writing, software\n",
        "# distributed under the License is distributed on an \"AS IS\" BASIS,\n",
        "# WITHOUT WARRANTIES OR CONDITIONS OF ANY KIND, either express or implied.\n",
        "# See the License for the specific language governing permissions and\n",
        "# limitations under the License."
      ],
      "execution_count": 1,
      "outputs": []
    },
    {
      "cell_type": "markdown",
      "metadata": {
        "id": "KGYHjVbZHv1G"
      },
      "source": [
        "**IMPORTANT NOTE:** This notebook is designed to run as a Colab. Click the button on top that says, `Open in Colab`, to run this notebook as a Colab. Running the notebook on your local machine might result in some of the code blocks throwing errors."
      ]
    },
    {
      "cell_type": "code",
      "metadata": {
        "id": "wYtuKeK0dImp"
      },
      "source": [
        "import csv\n",
        "import numpy as np\n",
        "import tensorflow as tf\n",
        "from tensorflow.keras.preprocessing.image import ImageDataGenerator\n",
        "from google.colab import files"
      ],
      "execution_count": 2,
      "outputs": []
    },
    {
      "cell_type": "code",
      "metadata": {
        "id": "4kxw-_rmcnVu",
        "outputId": "d45ed6a9-2753-476a-cf5e-341d5dbe5609",
        "colab": {
          "base_uri": "https://localhost:8080/"
        }
      },
      "source": [
        "# sign_mnist_train.csv\n",
        "!gdown --id 1z0DkA9BytlLxO1C0BAWzknLyQmZAp0HR\n",
        "# sign_mnist_test.csv\n",
        "!gdown --id 1z1BIj4qmri59GWBG4ivMNFtpZ4AXIbzg\n",
        "\n",
        "def get_data(filename):\n",
        "  # You will need to write code that will read the file passed\n",
        "  # into this function. The first line contains the column headers\n",
        "  # so you should ignore it\n",
        "  # Each successive line contians 785 comma separated values between 0 and 255\n",
        "  # The first value is the label\n",
        "  # The rest are the pixel values for that picture\n",
        "  # The function will return 2 np.array types. One with all the labels\n",
        "  # One with all the images\n",
        "  #\n",
        "  # Tips: \n",
        "  # If you read a full line (as 'row') then row[0] has the label\n",
        "  # and row[1:785] has the 784 pixel values\n",
        "  # Take a look at np.array_split to turn the 784 pixels into 28x28\n",
        "  # You are reading in strings, but need the values to be floats\n",
        "  # Check out np.array().astype for a conversion\n",
        "    with open(filename) as training_file:\n",
        "      ### START CODE HERE\n",
        "      rows = csv.reader(training_file, delimiter=',')\n",
        "      labels = []\n",
        "      images = []\n",
        "      \n",
        "      for i in rows:\n",
        "          labels.append(i[0])\n",
        "          images.append(np.array(i[1:]).reshape((28, 28)))\n",
        "          \n",
        "      #print(images[0])\n",
        "      images = images[1:]\n",
        "      labels = labels[1:]\n",
        "      labels = np.array(labels).astype(float)\n",
        "      images = np.array(images).astype(float)\n",
        "\n",
        "      ### END CODE HERE\n",
        "    return images, labels\n",
        "\n",
        "\n",
        "training_images, training_labels = get_data('./sign_mnist_train.csv')\n",
        "testing_images, testing_labels = get_data('./sign_mnist_test.csv')\n",
        "\n",
        "# Keep these\n",
        "print(training_images.shape)\n",
        "print(training_labels.shape)\n",
        "print(testing_images.shape)\n",
        "print(testing_labels.shape)\n",
        "\n",
        "# Their output should be:\n",
        "# (27455, 28, 28)\n",
        "# (27455,)\n",
        "# (7172, 28, 28)\n",
        "# (7172,)"
      ],
      "execution_count": 3,
      "outputs": [
        {
          "output_type": "stream",
          "name": "stdout",
          "text": [
            "Downloading...\n",
            "From: https://drive.google.com/uc?id=1z0DkA9BytlLxO1C0BAWzknLyQmZAp0HR\n",
            "To: /content/sign_mnist_train.csv\n",
            "100% 83.3M/83.3M [00:00<00:00, 162MB/s]\n",
            "Downloading...\n",
            "From: https://drive.google.com/uc?id=1z1BIj4qmri59GWBG4ivMNFtpZ4AXIbzg\n",
            "To: /content/sign_mnist_test.csv\n",
            "100% 21.8M/21.8M [00:00<00:00, 133MB/s]\n",
            "(27455, 28, 28)\n",
            "(27455,)\n",
            "(7172, 28, 28)\n",
            "(7172,)\n"
          ]
        }
      ]
    },
    {
      "cell_type": "code",
      "metadata": {
        "id": "awoqRpyZdQkD",
        "outputId": "74f11219-ff14-49ec-9cb6-a49fdabb1cd2",
        "colab": {
          "base_uri": "https://localhost:8080/"
        }
      },
      "source": [
        "# In this section you will have to add another dimension to the data\n",
        "# So, for example, if your array is (10000, 28, 28)\n",
        "# You will need to make it (10000, 28, 28, 1)\n",
        "\n",
        "training_images = training_images.reshape(27455, 28, 28, 1)\n",
        "testing_images = testing_images.reshape(7172, 28, 28, 1)\n",
        "\n",
        "# Create an ImageDataGenerator and do Image Augmentation\n",
        "train_datagen = ImageDataGenerator(rescale=1/255, rotation_range=40, height_shift_range=0.2, width_shift_range=0.2,\n",
        "                                  shear_range=0.2, zoom_range=0.2, fill_mode='nearest', horizontal_flip=True)\n",
        "\n",
        "validation_datagen = ImageDataGenerator(rescale=1/255)\n",
        "\n",
        "# Keep These\n",
        "print(training_images.shape)\n",
        "print(testing_images.shape)\n",
        "    \n",
        "# Their output should be:\n",
        "# (27455, 28, 28, 1)\n",
        "# (7172, 28, 28, 1)"
      ],
      "execution_count": 4,
      "outputs": [
        {
          "output_type": "stream",
          "name": "stdout",
          "text": [
            "(27455, 28, 28, 1)\n",
            "(7172, 28, 28, 1)\n"
          ]
        }
      ]
    },
    {
      "cell_type": "code",
      "metadata": {
        "id": "Rmb7S32cgRqS",
        "outputId": "bcefd1f3-1cbf-4d23-dcb8-22807af5f8ef",
        "colab": {
          "base_uri": "https://localhost:8080/"
        }
      },
      "source": [
        "# Define the model\n",
        "# Use no more than 2 Conv2D and 2 MaxPooling2D\n",
        "model = tf.keras.models.Sequential([tf.keras.layers.Conv2D(16, (3,3), activation='relu', input_shape=(28, 28, 1)),\n",
        "                                    tf.keras.layers.MaxPooling2D(2,2),\n",
        "                                    tf.keras.layers.Conv2D(32, (3,3), activation='relu'),\n",
        "                                    tf.keras.layers.MaxPooling2D(2,2),\n",
        "                                    tf.keras.layers.Flatten(),\n",
        "                                    tf.keras.layers.Dense(512, activation='relu'),\n",
        "                                    tf.keras.layers.Dense(26, activation='softmax')\n",
        "                                    ])\n",
        "\n",
        "# Compile Model. \n",
        "model.compile(optimizer='adam', loss='sparse_categorical_crossentropy', metrics=['acc'])\n",
        "\n",
        "train_gen = train_datagen.flow(training_images, training_labels, batch_size=50)\n",
        "\n",
        "val_gen = validation_datagen.flow(testing_images, testing_labels, batch_size=50)\n",
        "\n",
        "# Train the Model\n",
        "history = model.fit_generator(train_gen, validation_data=val_gen, epochs=20)\n",
        "\n",
        "# The output from model.evaluate should be close to:\n",
        "# [6.92426086682151, 0.56609035]\n"
      ],
      "execution_count": 5,
      "outputs": [
        {
          "output_type": "stream",
          "name": "stderr",
          "text": [
            "/usr/local/lib/python3.7/dist-packages/keras/engine/training.py:1972: UserWarning: `Model.fit_generator` is deprecated and will be removed in a future version. Please use `Model.fit`, which supports generators.\n",
            "  warnings.warn('`Model.fit_generator` is deprecated and '\n"
          ]
        },
        {
          "output_type": "stream",
          "name": "stdout",
          "text": [
            "Epoch 1/20\n",
            "550/550 [==============================] - 44s 26ms/step - loss: 2.6873 - acc: 0.1823 - val_loss: 1.9328 - val_acc: 0.3489\n",
            "Epoch 2/20\n",
            "550/550 [==============================] - 14s 26ms/step - loss: 1.9832 - acc: 0.3718 - val_loss: 1.2839 - val_acc: 0.5616\n",
            "Epoch 3/20\n",
            "550/550 [==============================] - 14s 26ms/step - loss: 1.5873 - acc: 0.4897 - val_loss: 0.8792 - val_acc: 0.6781\n",
            "Epoch 4/20\n",
            "550/550 [==============================] - 14s 26ms/step - loss: 1.3431 - acc: 0.5639 - val_loss: 0.9342 - val_acc: 0.6527\n",
            "Epoch 5/20\n",
            "550/550 [==============================] - 14s 26ms/step - loss: 1.1502 - acc: 0.6201 - val_loss: 0.6625 - val_acc: 0.7592\n",
            "Epoch 6/20\n",
            "550/550 [==============================] - 14s 26ms/step - loss: 1.0085 - acc: 0.6684 - val_loss: 0.5158 - val_acc: 0.8263\n",
            "Epoch 7/20\n",
            "550/550 [==============================] - 14s 26ms/step - loss: 0.9044 - acc: 0.7024 - val_loss: 0.4747 - val_acc: 0.8292\n",
            "Epoch 8/20\n",
            "550/550 [==============================] - 14s 26ms/step - loss: 0.8222 - acc: 0.7313 - val_loss: 0.4292 - val_acc: 0.8602\n",
            "Epoch 9/20\n",
            "550/550 [==============================] - 14s 26ms/step - loss: 0.7554 - acc: 0.7519 - val_loss: 0.3328 - val_acc: 0.8811\n",
            "Epoch 10/20\n",
            "550/550 [==============================] - 14s 26ms/step - loss: 0.6917 - acc: 0.7713 - val_loss: 0.3085 - val_acc: 0.8825\n",
            "Epoch 11/20\n",
            "550/550 [==============================] - 14s 26ms/step - loss: 0.6415 - acc: 0.7866 - val_loss: 0.3547 - val_acc: 0.8701\n",
            "Epoch 12/20\n",
            "550/550 [==============================] - 14s 26ms/step - loss: 0.6034 - acc: 0.7991 - val_loss: 0.2549 - val_acc: 0.9162\n",
            "Epoch 13/20\n",
            "550/550 [==============================] - 14s 26ms/step - loss: 0.5523 - acc: 0.8154 - val_loss: 0.3110 - val_acc: 0.8813\n",
            "Epoch 14/20\n",
            "550/550 [==============================] - 14s 26ms/step - loss: 0.5216 - acc: 0.8271 - val_loss: 0.2236 - val_acc: 0.9345\n",
            "Epoch 15/20\n",
            "550/550 [==============================] - 14s 26ms/step - loss: 0.4962 - acc: 0.8345 - val_loss: 0.1752 - val_acc: 0.9419\n",
            "Epoch 16/20\n",
            "550/550 [==============================] - 14s 26ms/step - loss: 0.4683 - acc: 0.8421 - val_loss: 0.2066 - val_acc: 0.9183\n",
            "Epoch 17/20\n",
            "550/550 [==============================] - 14s 26ms/step - loss: 0.4591 - acc: 0.8438 - val_loss: 0.2042 - val_acc: 0.9301\n",
            "Epoch 18/20\n",
            "550/550 [==============================] - 14s 26ms/step - loss: 0.4376 - acc: 0.8542 - val_loss: 0.2025 - val_acc: 0.9290\n",
            "Epoch 19/20\n",
            "550/550 [==============================] - 14s 26ms/step - loss: 0.4212 - acc: 0.8584 - val_loss: 0.2364 - val_acc: 0.9137\n",
            "Epoch 20/20\n",
            "550/550 [==============================] - 14s 26ms/step - loss: 0.3926 - acc: 0.8711 - val_loss: 0.1343 - val_acc: 0.9522\n"
          ]
        }
      ]
    },
    {
      "cell_type": "code",
      "metadata": {
        "id": "_Q3Zpr46dsij",
        "outputId": "5dc0a5c9-542a-48dd-d611-5bc8f3b922d2",
        "colab": {
          "base_uri": "https://localhost:8080/",
          "height": 545
        }
      },
      "source": [
        "# Plot the chart for accuracy and loss on both training and validation\n",
        "\n",
        "import matplotlib.pyplot as plt\n",
        "acc = history.history['acc']\n",
        "val_acc = history.history['val_acc']\n",
        "loss = history.history['loss']\n",
        "val_loss = history.history['val_loss']\n",
        "\n",
        "epochs = range(len(acc))\n",
        "\n",
        "plt.plot(epochs, acc, 'r', label='Training accuracy')\n",
        "plt.plot(epochs, val_acc, 'b', label='Validation accuracy')\n",
        "plt.title('Training and validation accuracy')\n",
        "plt.legend()\n",
        "plt.figure()\n",
        "\n",
        "plt.plot(epochs, loss, 'r', label='Training Loss')\n",
        "plt.plot(epochs, val_loss, 'b', label='Validation Loss')\n",
        "plt.title('Training and validation loss')\n",
        "plt.legend()\n",
        "\n",
        "plt.show()"
      ],
      "execution_count": 7,
      "outputs": [
        {
          "output_type": "display_data",
          "data": {
            "image/png": "[encoded data removed]",
            "text/plain": [
              "<Figure size 432x288 with 1 Axes>"
            ]
          },
          "metadata": {
            "needs_background": "light"
          }
        },
        {
          "output_type": "display_data",
          "data": {
            "image/png": "[encoded data removed]",
            "text/plain": [
              "<Figure size 432x288 with 1 Axes>"
            ]
          },
          "metadata": {
            "needs_background": "light"
          }
        }
      ]
    }
  ]
}